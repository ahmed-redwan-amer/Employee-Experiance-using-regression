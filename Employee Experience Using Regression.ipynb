{
 "cells": [
  {
   "cell_type": "code",
   "execution_count": 1,
   "metadata": {},
   "outputs": [],
   "source": [
    "#import liberaries\n",
    "import pandas as pd\n",
    "import numpy as np\n",
    "import matplotlib.pyplot as plt\n",
    "#export sheet excel by command for example(df = pd.csv (r'Path where the Excel file is stored\\File name.csv') #for an earlier version of Excel, you may need to use the file extension of 'xls')"
   ]
  },
  {
   "cell_type": "code",
   "execution_count": 2,
   "metadata": {},
   "outputs": [],
   "source": [
    "data=pd.read_csv(r\"D:\\PYTHON\\GITHUB code\\Employee Experiance Using Regression\\Salary_Data.csv\")\n"
   ]
  },
  {
   "cell_type": "code",
   "execution_count": 3,
   "metadata": {},
   "outputs": [],
   "source": [
    "#تم الان عملية الimport لشيت الإكسيل\n",
    "#الشيت بالنسبة ليا جاهز (لانة مكون من 2 عمود وفقط وصفوف)فمش محتاج اعمل علية تعديل..لو محتاج اعمل علية تعديل كنت هشتغل بال (i.lock) او بال (.drop)\n",
    "#دلوقتى انا محتاج احدد عمود يكون هوة الinput بتاعى وعمود يكون هوة الoutput بتاعى \n",
    "#دلوقتى انا هحدد ان الinput بتاعى هيكون عمود رقم 1 (لانة المرتبات) والoutput هيكون عمود رقم 0 (عدد سنوات الخبرة) \n",
    "#أما اذا كان index الاعمدة او الصفوف (مسميات) فكتب المسمى للتخزين داخل X OR Y كالاتى\n",
    "#دلوقتى انا هرمز للinput ب الX\n",
    "X=data[\"YearsExperience\"]\n",
    "#ودلوقتى انا هرمز للoutput بالY\n",
    "Y=data[\"Salary\"]\n",
    "#to import specific multiple columns & Rows in new variables\n",
    "#دلوقتى انا محتاج اعمل import لمكتبة الskilearn عشان استعمل منها functions معينة\n",
    "#ولكن لن اعمل لها import لانها كبيرة جدا..إية الحل؟\n",
    "#الحل: إنى اعمل import للfunctions اللى انا عايزها بس منهامثل الfunction(train&test&split)2..كالاتى: \n",
    "#ماهى الfunction of \"train_test_split؟ \n",
    "#هي function يتم بيها عمل الخط الخاص بالlinear regression\n",
    "#معنى الكلام دة:انا عندى عمود مسمية X وعندى عمود تانى مسمية Y\n",
    "#عايز اخد محموعد من الdata من الA واعمل بيها تيست معين-هجرب بشكل عشوائي مثلا عشات اطلع معادلة تنبوء predictation (ولكن هحافظ على باقى البيانات عشان اجري عليها الاختبار بعد ماتاكد من ان المعادلة للتبوء مظبوطة)\n",
    "#البيانات اللى اخدناها عشان نجري عليها الاختبار بنسميها test\n",
    "#باقى البيانات اللى (بعد ماتاكد من اختبارى فى التنبوء) شايلها على جمب بنسميها train\n",
    "#بالنسبة لعملية الsplit فهى بتفصل البيانات بين عملية الtrain و الtest\n"
   ]
  },
  {
   "cell_type": "code",
   "execution_count": 4,
   "metadata": {},
   "outputs": [],
   "source": [
    "#بالنسبة لعملية الsplit فهى بتفصل البيانات بين عملية الtrain و الtest\n",
    "from sklearn.model_selection import train_test_split\n",
    "x=np.array(X).reshape(-1,1)\n",
    "y=np.array(Y).reshape(-1,1)\n",
    "x_train,x_test,y_train,y_test=train_test_split(x,y,test_size=0.2)\n",
    "#دلوقتى خلاص تم تجهيز الداتا واصبح عندى A & C جاهزين لانى اعمل عليهم عمليات الlinear regression (وهو عمل خط عشوائي بين البيانات ثم عمل عملية التعديل على الخط العشوائي ليكون فى المكان الافضل لتمثيل الداتا)\n",
    "#ولعمل هذة العميلة محتاج اعمل استدعاء لfunction من داخل مكتبة الskilearn\n"
   ]
  },
  {
   "cell_type": "code",
   "execution_count": 5,
   "metadata": {},
   "outputs": [
    {
     "name": "stdout",
     "output_type": "stream",
     "text": [
      "[[ 63218.]\n",
      " [ 39343.]\n",
      " [101302.]\n",
      " [122391.]\n",
      " [121872.]\n",
      " [ 64445.]]\n",
      "[[ 3.9]\n",
      " [ 1.1]\n",
      " [ 7.9]\n",
      " [10.3]\n",
      " [10.5]\n",
      " [ 3.2]]\n"
     ]
    }
   ],
   "source": [
    "from sklearn.linear_model import LinearRegression\n",
    "#دلوقتى محتاج اعمل object عشان اشتغل علية فى الLinearRegression عشان اعمل تحليل للبيانات\n",
    "reg=LinearRegression()\n",
    "#دلوقتى هنستدعى function بتساعد فى عملية تحليل البيانات حيث تقوم بعملية التدريب\n",
    "#وهنعمل على الinput-X اللى هيا الداتا اللى هيتعلم عليها والoutput-Y الل هيا النتيجة اللى هيتعلم عليها\n",
    "reg.fit(x_train,y_train)\n",
    "#دى مرتابت لمجموعة من الاشخاص اللى اخذتهم random من الشيت الاساسى عشان اعمل عليهم تيست(بس دول انا مخبيهم عن الكومبيلر عشان اشوف نتيجة توقثعاتة هتطلع زي ماهى مرتباتهم الفعلية ولا لأ)\n",
    "print(y_test)\n",
    "#ودلوقتى دى خبرات نفس الاشخاص اللى فى Y_test\n",
    "print(x_test)"
   ]
  },
  {
   "cell_type": "code",
   "execution_count": 6,
   "metadata": {},
   "outputs": [
    {
     "name": "stdout",
     "output_type": "stream",
     "text": [
      "[[ 61883.57381025]\n",
      " [ 34531.42709912]\n",
      " [100958.06911185]\n",
      " [124402.76629282]\n",
      " [126356.4910579 ]\n",
      " [ 55045.53713246]]\n"
     ]
    },
    {
     "data": {
      "image/png": "[encoded data removed]",
      "text/plain": [
       "<Figure size 432x288 with 1 Axes>"
      ]
     },
     "metadata": {
      "needs_background": "light"
     },
     "output_type": "display_data"
    }
   ],
   "source": [
    "#انا هديلة خبرات الناس فى اللى في x_test وهقولة بالمعادلة اللى عملتها توقعلى مرتباتهم وهبدا اقارن المرتبات اللى طلهم فى cpred هل هيا قريبة من المرتبات اللى كنت مخبايها فى  Y_test \n",
    "#وبكدة هيككون هوة رسم خط linear regression عشوائى وفى الغالب بيكون بعيد عن التوقعات المظبوطة اللى انا عايزها\n",
    "ypred=reg.predict(x_test)\n",
    "print(ypred)\n",
    "#دلوقتى عايزين نشوف برسم بيانى اية اللى حصل..فهنكتب function يطلع ليا نقاط تمثل الsalary على محور الx ونقاط تمثل الYearsExperiance على محور الy \n",
    "plt.scatter(x,y)\n",
    "#وبعدين هطلب منة يرسم ليا خط الlinear regression اللى هوة رسمة على نقاط كنوع التنبوء\n",
    "#فال x تمثل النقاط على محور x و y وهى التقاء الsalary with YearsExperiance و (reg.predict(x)q) لتمثيل خط التنبوء على النقاط \n",
    "plt.plot(x,reg.predict(x))\n",
    "plt.show()"
   ]
  },
  {
   "cell_type": "code",
   "execution_count": null,
   "metadata": {},
   "outputs": [],
   "source": []
  }
 ],
 "metadata": {
  "kernelspec": {
   "display_name": "Python 3",
   "language": "python",
   "name": "python3"
  },
  "language_info": {
   "codemirror_mode": {
    "name": "ipython",
    "version": 3
   },
   "file_extension": ".py",
   "mimetype": "text/x-python",
   "name": "python",
   "nbconvert_exporter": "python",
   "pygments_lexer": "ipython3",
   "version": "3.7.3"
  }
 },
 "nbformat": 4,
 "nbformat_minor": 4
}
